{
 "cells": [
  {
   "cell_type": "markdown",
   "metadata": {},
   "source": [
    "# Programming Exercise 5: Regularized Linear Regression and Bias v.s. Variance\n",
    "\n",
    "In this exercise, you will implement regularized linear regression and use it to study models with different vias-variance properties.\n",
    "\n",
    "## 1. Regularized Linear Regression\n",
    "In the first half of the exercise, you will implement regularized linear regression to predict the amount of water flowing out of  adam using the change of water level in a reservoir. In the next half, you will go through some diagnostics of debugging learning algorithms and examine the effects of bias v.s. variance\n",
    "\n",
    "### 1.1 Visualizing the dataset\n",
    "We begin by visualizing the dataset containing historical records on the change in the water level, x, and the amount of water flowing out of the dam, y.\n",
    "\n",
    "The dataset is divided into three parts:\n",
    "- A training set that your modle will learn on: X, y\n",
    "- A cross validation set for determining the regularization parameter: Xval, yval\n",
    "- A test set for evaluating performance. These are 'unseen' examples which your model did not observe during training: Xtest, ytest"
   ]
  },
  {
   "cell_type": "code",
   "execution_count": 3,
   "metadata": {
    "collapsed": true
   },
   "outputs": [],
   "source": [
    "%matplotlib inline\n",
    "\n",
    "import pandas as pd\n",
    "import numpy as np\n",
    "import matplotlib.pyplot as plt\n",
    "import scipy.io"
   ]
  },
  {
   "cell_type": "code",
   "execution_count": 108,
   "metadata": {
    "collapsed": false
   },
   "outputs": [
    {
     "data": {
      "text/plain": [
       "<matplotlib.text.Text at 0x1120d1610>"
      ]
     },
     "execution_count": 108,
     "metadata": {},
     "output_type": "execute_result"
    },
    {
     "data": {
      "image/png": "[encoded data removed]",
      "text/plain": [
       "<matplotlib.figure.Figure at 0x112675850>"
      ]
     },
     "metadata": {},
     "output_type": "display_data"
    }
   ],
   "source": [
    "import scipy.io\n",
    "datamatrix = scipy.io.loadmat('/Users/tess/Desktop/MachineLearning/machine-learning-ex5/ex5/ex5data1.mat')\n",
    "\n",
    "X, y = datamatrix['X'], datamatrix['y']                 # training data\n",
    "Xval, yval = datamatrix['Xval'], datamatrix['yval']     # cross-validation data\n",
    "Xtest, ytest = datamatrix['Xtest'], datamatrix['ytest'] # testing data\n",
    "\n",
    "plt.scatter(X,y, marker = 'x', c= 'red')\n",
    "plt.xlabel('Change in water level (x)')\n",
    "plt.ylabel('Water flowing out of the dam (y)')"
   ]
  },
  {
   "cell_type": "markdown",
   "metadata": {},
   "source": [
    "### 1.2 Regularized linear regression cost function\n",
    "### 1.3 Regularized linear regression gradient\n",
    "\n",
    "First, let's try to fit a straight line to the data"
   ]
  },
  {
   "cell_type": "code",
   "execution_count": 109,
   "metadata": {
    "collapsed": false
   },
   "outputs": [
    {
     "data": {
      "text/plain": [
       "((12, 2), (12, 1), (2, 1))"
      ]
     },
     "execution_count": 109,
     "metadata": {},
     "output_type": "execute_result"
    }
   ],
   "source": [
    "X = np.insert(X, 0, 1, axis = 1)  # insert a row of 1's for theta0\n",
    "theta = np.array([[1.], [1.]])\n",
    "\n",
    "X.shape, y.shape, theta.shape"
   ]
  },
  {
   "cell_type": "code",
   "execution_count": 148,
   "metadata": {
    "collapsed": true
   },
   "outputs": [],
   "source": [
    "def linearRegCostFunction(theta, X, y, lamb):\n",
    "    \n",
    "    m = y.size                  # number of training examples\n",
    "    h = np.dot(X, theta)        # linear hypothesis \n",
    "\n",
    "    J = (1/(2.*m))*np.sum(np.square(h-y)) + (lamb/(2.*m))*np.sum(np.square(theta[1:]))\n",
    "    return J"
   ]
  },
  {
   "cell_type": "code",
   "execution_count": 160,
   "metadata": {
    "collapsed": false
   },
   "outputs": [],
   "source": [
    "def linearRegGradient(theta, X, y, lamb):\n",
    "    theta = theta.reshape(-1,1)\n",
    "\n",
    "    m = y.size\n",
    "    h = np.dot(X, theta)\n",
    "    grad = (1./m) * np.dot(X.T, (h - y)) + (lamb/(float(m)))*np.r_[[[0]],theta[1:].reshape(-1,1)]    \n",
    "    return grad.flatten()"
   ]
  },
  {
   "cell_type": "code",
   "execution_count": 161,
   "metadata": {
    "collapsed": false
   },
   "outputs": [
    {
     "data": {
      "text/plain": [
       "(303.99319222026429, array([ -15.30301567,  598.25074417]))"
      ]
     },
     "execution_count": 161,
     "metadata": {},
     "output_type": "execute_result"
    }
   ],
   "source": [
    "# using theta initalized at [1; 1], should expect to see J = 303.993\n",
    "# and should see a gradient of [-15.30; 598.250]\n",
    "cost = linearRegCostFunction(theta, X, y, 1)\n",
    "grad = linearRegGradient(theta, X, y, 1)\n",
    "cost, grad"
   ]
  },
  {
   "cell_type": "markdown",
   "metadata": {},
   "source": [
    "### 1.4 Fitting linear regression\n",
    "\n",
    "Compute the optimal values of theta. We will use scipy's optimize_fmin_cg to optimize the cost function.\n",
    "\n",
    "In this part, we set the regularization parameter lambda to zero. Because our current implementation of linear regression is trying to fit a 2-dimensional theta, regularization will not be incredibly helpful for a theta of such low dimension. "
   ]
  },
  {
   "cell_type": "code",
   "execution_count": 215,
   "metadata": {
    "collapsed": false
   },
   "outputs": [],
   "source": [
    "import scipy\n",
    "\n",
    "def trainLinearReg(theta, X, y, lamb):\n",
    "    initial_theta = np.array([[1.],[1.],[1.],[1.],[1.],[1.],[1.],[1.],[1.]])\n",
    "    #initial_theta = np.array([[30],[30]])\n",
    "\n",
    "    results = scipy.optimize.minimize(linearRegCostFunction, initial_theta,  \\\n",
    "                                     args=(X, y, lamb), method = None, \\\n",
    "                                      jac = linearRegGradient,\\\n",
    "                                      options = {'maxiter':5000})\n",
    "    return results\n",
    "\n",
    "#theta_opt = trainLinearReg(theta, X, y, 0)\n",
    "#theta_opt"
   ]
  },
  {
   "cell_type": "code",
   "execution_count": 84,
   "metadata": {
    "collapsed": false
   },
   "outputs": [
    {
     "data": {
      "text/plain": [
       "<matplotlib.legend.Legend at 0x1117893d0>"
      ]
     },
     "execution_count": 84,
     "metadata": {},
     "output_type": "execute_result"
    },
    {
     "data": {
      "image/png": "[encoded data removed]",
      "text/plain": [
       "<matplotlib.figure.Figure at 0x113306190>"
      ]
     },
     "metadata": {},
     "output_type": "display_data"
    }
   ],
   "source": [
    "# plot line of best fit:\n",
    "x_fit = np.arange(-50, 40)\n",
    "y_fit = theta_opt[0][0] + theta_opt[0][1]*x_fit\n",
    "\n",
    "X_plt = X[:,1:] # remove row of 1's for plotting\n",
    "\n",
    "plt.scatter(X_plt,y, marker = 'x', c= 'red')\n",
    "plt.plot(x_fit, y_fit, label = 'Linear Regr. w/ Gradient Descent')\n",
    "plt.xlabel('Change in water level (x)')\n",
    "plt.ylabel('Water flowing out of the dam (y)')\n",
    "plt.legend(loc = 2)"
   ]
  },
  {
   "cell_type": "markdown",
   "metadata": {},
   "source": [
    "## 2. Bias-variance\n",
    "\n",
    "An important concept in machine learning is the bias-variance tradeoff. Models with high bias are not complex enough for the data and tend to underfit, while models with high variance overfit to the training data.\n",
    "\n",
    "In this part of the exercise, you will plot training and test errors on a learning curve to diagnose bias-variance problems\n",
    "\n",
    "### 2.1 Learning curves\n",
    "A learning curve plots training and cross validation error as a function of the training set size. "
   ]
  },
  {
   "cell_type": "code",
   "execution_count": 110,
   "metadata": {
    "collapsed": true
   },
   "outputs": [],
   "source": [
    "Xval = np.insert(Xval, 0, 1, axis = 1)  # insert a row of 1's for theta0"
   ]
  },
  {
   "cell_type": "code",
   "execution_count": 170,
   "metadata": {
    "collapsed": false,
    "scrolled": false
   },
   "outputs": [],
   "source": [
    "# return a vector of errors for the training set and cross validation set\n",
    "\n",
    "def learningCurve(Xtrain, ytrain, Xval, yval):\n",
    "\n",
    "    m = Xtrain.shape[0]\n",
    "    error_train = []\n",
    "    error_val = []\n",
    "    for i in range(1,m+1):\n",
    "        subsetX = Xtrain[:i, :]\n",
    "        subsety = ytrain[:i]\n",
    "        theta = np.array([[1.], [1.]])\n",
    "        \n",
    "        # train on a subset of the data:\n",
    "        theta_opt = trainLinearReg_2(theta, subsetX, subsety, 0) # find thetas\n",
    "        # calculate error for train and validation data\n",
    "        error_train.append(linearRegCostFunction(theta_opt.x, subsetX, subsety, 0))\n",
    "        error_val.append(linearRegCostFunction(theta_opt.x, Xval, yval, 0))\n",
    "    return error_train, error_val\n",
    "\n",
    "error_train, error_val = learningCurve(X, y, Xval, yval)"
   ]
  },
  {
   "cell_type": "code",
   "execution_count": 177,
   "metadata": {
    "collapsed": false
   },
   "outputs": [
    {
     "data": {
      "text/plain": [
       "<matplotlib.text.Text at 0x113668550>"
      ]
     },
     "execution_count": 177,
     "metadata": {},
     "output_type": "execute_result"
    },
    {
     "data": {
      "image/png": "[encoded data removed]",
      "text/plain": [
       "<matplotlib.figure.Figure at 0x1126bd450>"
      ]
     },
     "metadata": {},
     "output_type": "display_data"
    }
   ],
   "source": [
    "# plot the learning curve\n",
    "# note: since the model is underfitting the data, we expect to see a graph with high bias\n",
    "m = X.shape[0]\n",
    "size = range(1,m+1)\n",
    "plt.plot(size, error_train, label = \"Training Error\")\n",
    "plt.plot(size, error_val, c = 'green', label = \"Cross validation Error\")\n",
    "plt.legend(loc = 1)\n",
    "plt.xlabel('Number of training examples')\n",
    "plt.ylabel('Error')"
   ]
  },
  {
   "cell_type": "markdown",
   "metadata": {},
   "source": [
    "## 3. Polynomial regression\n",
    "The problem with our linear model was that it was too simple for the data and resulted in underfitting (high bias). In this part of the exercise, you will address this problem by adding more features."
   ]
  },
  {
   "cell_type": "code",
   "execution_count": 199,
   "metadata": {
    "collapsed": false
   },
   "outputs": [
    {
     "data": {
      "text/plain": [
       "(12, 8)"
      ]
     },
     "execution_count": 199,
     "metadata": {},
     "output_type": "execute_result"
    }
   ],
   "source": [
    "# when a training set X of size m x 1 is passed, return an m x p matrix\n",
    "# where column 1 holds the original values of X, column 2 holds the values\n",
    "# of X**2, column 3 holds the values of X**3, etc.\n",
    "def polyFeatures(X, degree):\n",
    "    m = X.shape[0]\n",
    "    #X_poly = np.array((m,degree))\n",
    "    X_poly = X\n",
    "    X_poly.shape\n",
    "    for i in range(2, degree+1):\n",
    "        poly = np.power(X, i)\n",
    "        X_poly = np.append(X_poly, poly, axis = 1)\n",
    "    \n",
    "    return X_poly\n",
    "\n",
    "X_poly = polyFeatures(X[:,1:], 8)\n",
    "X_poly.shape"
   ]
  },
  {
   "cell_type": "markdown",
   "metadata": {},
   "source": [
    "### 3.1 Learning Polynomial Regression\n",
    "\n",
    "For this part of the exercise, you will be using a polynomial of degree 8. It turns out that running the training directly on the projected data does not work well as the features would be badly scaled (e.g. an example with x = 40 will now have a feature x(8) = 40^8 = 6.5 x 10^12! Therefore, you will need to use feature normalization."
   ]
  },
  {
   "cell_type": "code",
   "execution_count": 206,
   "metadata": {
    "collapsed": false
   },
   "outputs": [],
   "source": [
    "# normalizes the features in X. \n",
    "# returns a normalized version of X where the mean value of each feature\n",
    "# is 0 and the standard deviation is 1.\n",
    "\n",
    "def featureNorm(X):\n",
    "    \n",
    "    normX = X\n",
    "    means = np.mean(normX,axis=0) #column-by-column\n",
    "    normX = normX - means\n",
    "    stds = np.std(normX,axis=0,ddof=1)\n",
    "    normX = normX / stds\n",
    "    \n",
    "    return normX, means, stds"
   ]
  },
  {
   "cell_type": "code",
   "execution_count": 208,
   "metadata": {
    "collapsed": false
   },
   "outputs": [],
   "source": [
    "# map onto polynomial = 8 space\n",
    "X_poly = polyFeatures(X[:,1:], 8)\n",
    "X_poly_val = polyFeatures(Xval[:,1:], 8)\n",
    "X_poly_test = polyFeatures(Xtest[:,1:], 8)\n",
    "\n",
    "# normalize features:\n",
    "X_poly, X_poly_means, X_poly_stds = featureNorm(X_poly)\n",
    "X_poly_val, X_poly_val_means, X_poly_val_stds = featureNorm(X_poly_val)\n",
    "X_poly_test, X_poly__test_means, X_poly__test_stds = featureNorm(X_poly_test)\n",
    "\n",
    "# add column of 1's\n",
    "X_poly = np.insert(X_poly, 0, 1, axis = 1)\n",
    "X_poly_val = np.insert(X_poly_val, 0, 1, axis = 1)\n",
    "X_poly_test = np.insert(X_poly_test, 0, 1, axis = 1)"
   ]
  },
  {
   "cell_type": "code",
   "execution_count": 216,
   "metadata": {
    "collapsed": false
   },
   "outputs": [],
   "source": [
    "lamb = 0\n",
    "theta_poly_opt = trainLinearReg(theta, X_poly, y, lamb)"
   ]
  },
  {
   "cell_type": "code",
   "execution_count": 217,
   "metadata": {
    "collapsed": false
   },
   "outputs": [
    {
     "data": {
      "text/plain": [
       "      fun: 1402.0987486322988\n",
       " hess_inv: array([[  1.00388531e+00,   2.07224560e-02,  -9.23132850e-04,\n",
       "         -1.05710318e-02,  -9.40379724e-03,  -1.29566789e-02,\n",
       "         -8.43744057e-03,  -8.76151963e-03,  -6.93347390e-03],\n",
       "       [  2.07224560e-02,   9.54448849e-01,   8.09692410e-02,\n",
       "         -8.17331679e-02,   8.36007092e-02,  -9.11663662e-02,\n",
       "          8.57105688e-02,  -9.17989074e-02,   8.59788708e-02],\n",
       "       [ -9.23132850e-04,   8.09692410e-02,   9.16388780e-01,\n",
       "          8.63096486e-02,  -9.68858097e-02,   9.16774211e-02,\n",
       "         -9.96959489e-02,   9.47574005e-02,  -9.94584025e-02],\n",
       "       [ -1.05710318e-02,  -8.17331679e-02,   8.63096486e-02,\n",
       "          8.91210498e-01,   9.60464248e-02,  -1.14395543e-01,\n",
       "          1.01053058e-01,  -1.13146137e-01,   1.02716495e-01],\n",
       "       [ -9.40379724e-03,   8.36007092e-02,  -9.68858097e-02,\n",
       "          9.60464248e-02,   8.90332205e-01,   1.03613752e-01,\n",
       "         -1.12367282e-01,   1.07187398e-01,  -1.11924980e-01],\n",
       "       [ -1.29566789e-02,  -9.11663662e-02,   9.16774211e-02,\n",
       "         -1.14395543e-01,   1.03613752e-01,   8.80198117e-01,\n",
       "          1.08860870e-01,  -1.19090709e-01,   1.10428367e-01],\n",
       "       [ -8.43744057e-03,   8.57105688e-02,  -9.96959489e-02,\n",
       "          1.01053058e-01,  -1.12367282e-01,   1.08860870e-01,\n",
       "          8.84618806e-01,   1.12029843e-01,  -1.15143476e-01],\n",
       "       [ -8.76151963e-03,  -9.17989074e-02,   9.47574005e-02,\n",
       "         -1.13146137e-01,   1.07187398e-01,  -1.19090709e-01,\n",
       "          1.12029843e-01,   8.80742682e-01,   1.13216113e-01],\n",
       "       [ -6.93347390e-03,   8.59788708e-02,  -9.94584025e-02,\n",
       "          1.02716495e-01,  -1.11924980e-01,   1.10428367e-01,\n",
       "         -1.15143476e-01,   1.13216113e-01,   8.84922491e-01]])\n",
       "      jac: array([-4.92758039, -5.17277698,  0.70558537, -4.46813606,  1.61719027,\n",
       "       -3.90429191,  2.10140876, -3.49461681,  2.36255118])\n",
       "  message: 'Desired error not necessarily achieved due to precision loss.'\n",
       "     nfev: 99\n",
       "      nit: 2\n",
       "     njev: 87\n",
       "   status: 2\n",
       "  success: False\n",
       "        x: array([ 6.29000893,  3.97900143,  2.94568644,  2.92093518,  2.36761312,\n",
       "        2.13723951,  1.94732199,  1.62003856,  1.66829946])"
      ]
     },
     "execution_count": 217,
     "metadata": {},
     "output_type": "execute_result"
    }
   ],
   "source": [
    "theta_poly_opt"
   ]
  },
  {
   "cell_type": "code",
   "execution_count": 1,
   "metadata": {
    "collapsed": false
   },
   "outputs": [
    {
     "ename": "NameError",
     "evalue": "name 'theta_poly_opt' is not defined",
     "output_type": "error",
     "traceback": [
      "\u001b[0;31m---------------------------------------------------------------------------\u001b[0m",
      "\u001b[0;31mNameError\u001b[0m                                 Traceback (most recent call last)",
      "\u001b[0;32m<ipython-input-1-d5bf554006dc>\u001b[0m in \u001b[0;36m<module>\u001b[0;34m()\u001b[0m\n\u001b[1;32m     14\u001b[0m     \u001b[0mplt\u001b[0m\u001b[0;34m.\u001b[0m\u001b[0mplot\u001b[0m\u001b[0;34m(\u001b[0m\u001b[0mxvals\u001b[0m\u001b[0;34m,\u001b[0m\u001b[0mh\u001b[0m\u001b[0;34m(\u001b[0m\u001b[0mfit_theta\u001b[0m\u001b[0;34m,\u001b[0m\u001b[0mxmat\u001b[0m\u001b[0;34m)\u001b[0m\u001b[0;34m,\u001b[0m\u001b[0;34m'b--'\u001b[0m\u001b[0;34m)\u001b[0m\u001b[0;34m\u001b[0m\u001b[0m\n\u001b[1;32m     15\u001b[0m \u001b[0;34m\u001b[0m\u001b[0m\n\u001b[0;32m---> 16\u001b[0;31m \u001b[0mplotFit\u001b[0m\u001b[0;34m(\u001b[0m\u001b[0mtheta_poly_opt\u001b[0m\u001b[0;34m.\u001b[0m\u001b[0mx\u001b[0m\u001b[0;34m,\u001b[0m\u001b[0mX_poly_means\u001b[0m\u001b[0;34m,\u001b[0m\u001b[0mX_poly_stds\u001b[0m\u001b[0;34m)\u001b[0m\u001b[0;34m\u001b[0m\u001b[0m\n\u001b[0m",
      "\u001b[0;31mNameError\u001b[0m: name 'theta_poly_opt' is not defined"
     ]
    }
   ],
   "source": [
    "### not currently working. will return later.\n",
    "\n",
    "def plotFit(fit_theta,means,stds):\n",
    "   \n",
    "    n_points_to_plot = 50\n",
    "    xvals = np.linspace(-55,55,n_points_to_plot)\n",
    "    xmat = np.ones((n_points_to_plot,1))\n",
    "    \n",
    "    xmat = np.insert(xmat,xmat.shape[1],xvals.T,axis=1)\n",
    "    xmat = polyFeatures(xmat,len(fit_theta)-2)\n",
    "    xmat[:,1:] = xmat[:,1:] - means[1:]\n",
    "    xmat[:,1:] = xmat[:,1:] / stds[1:]\n",
    "    plotData()\n",
    "    plt.plot(xvals,h(fit_theta,xmat),'b--')\n",
    "\n",
    "plotFit(theta_poly_opt.x,X_poly_means,X_poly_stds)"
   ]
  },
  {
   "cell_type": "code",
   "execution_count": null,
   "metadata": {
    "collapsed": true
   },
   "outputs": [],
   "source": []
  }
 ],
 "metadata": {
  "anaconda-cloud": {},
  "kernelspec": {
   "display_name": "Python [conda env:py27]",
   "language": "python",
   "name": "conda-env-py27-py"
  },
  "language_info": {
   "codemirror_mode": {
    "name": "ipython",
    "version": 2
   },
   "file_extension": ".py",
   "mimetype": "text/x-python",
   "name": "python",
   "nbconvert_exporter": "python",
   "pygments_lexer": "ipython2",
   "version": "2.7.12"
  }
 },
 "nbformat": 4,
 "nbformat_minor": 1
}
