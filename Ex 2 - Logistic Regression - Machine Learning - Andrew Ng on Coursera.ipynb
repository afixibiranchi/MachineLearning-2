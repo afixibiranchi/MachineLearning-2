{
 "cells": [
  {
   "cell_type": "markdown",
   "metadata": {},
   "source": [
    "# Programming Exercise 2: Logistic Regression\n",
    "\n",
    "In this exercise, you will implement logistic regression and apply it to two different datasets.\n",
    "\n",
    "## 1. Logistic Regression\n",
    "In this part of the exercise, you will build a logistic regression model to predict whether a student gets admitted into a university.\n",
    "\n",
    "We have a dataset with historical data from previous applicants that you can use as a training set for logistic regression. For each training example, you hae the applicant's scores on two exams and the admissions decision. \n",
    "\n",
    "Goal: build a classification model that estimates an applicant's probability of admission based on the scores from those two exams.\n",
    "\n",
    "### 1.1 Visualizing the data"
   ]
  },
  {
   "cell_type": "code",
   "execution_count": 4,
   "metadata": {
    "collapsed": true
   },
   "outputs": [],
   "source": [
    "%matplotlib inline\n",
    "\n",
    "import pandas as pd\n",
    "import numpy as np\n",
    "import matplotlib.pyplot as plt"
   ]
  },
  {
   "cell_type": "code",
   "execution_count": 9,
   "metadata": {
    "collapsed": true
   },
   "outputs": [],
   "source": [
    "datadf = pd.read_csv('/Users/tess/Desktop/MachineLearning/machine-learning-ex2/ex2/ex2data1.txt', header = None, names = ['Exam1', 'Exam2', 'Accepted'])"
   ]
  },
  {
   "cell_type": "code",
   "execution_count": 31,
   "metadata": {
    "collapsed": false,
    "scrolled": true
   },
   "outputs": [
    {
     "data": {
      "text/html": [
       "<div>\n",
       "<table border=\"1\" class=\"dataframe\">\n",
       "  <thead>\n",
       "    <tr style=\"text-align: right;\">\n",
       "      <th></th>\n",
       "      <th>Exam1</th>\n",
       "      <th>Exam2</th>\n",
       "      <th>Accepted</th>\n",
       "    </tr>\n",
       "  </thead>\n",
       "  <tbody>\n",
       "    <tr>\n",
       "      <th>1</th>\n",
       "      <td>30.286711</td>\n",
       "      <td>43.894998</td>\n",
       "      <td>0</td>\n",
       "    </tr>\n",
       "    <tr>\n",
       "      <th>2</th>\n",
       "      <td>35.847409</td>\n",
       "      <td>72.902198</td>\n",
       "      <td>0</td>\n",
       "    </tr>\n",
       "    <tr>\n",
       "      <th>3</th>\n",
       "      <td>60.182599</td>\n",
       "      <td>86.308552</td>\n",
       "      <td>1</td>\n",
       "    </tr>\n",
       "    <tr>\n",
       "      <th>4</th>\n",
       "      <td>79.032736</td>\n",
       "      <td>75.344376</td>\n",
       "      <td>1</td>\n",
       "    </tr>\n",
       "    <tr>\n",
       "      <th>5</th>\n",
       "      <td>45.083277</td>\n",
       "      <td>56.316372</td>\n",
       "      <td>0</td>\n",
       "    </tr>\n",
       "    <tr>\n",
       "      <th>6</th>\n",
       "      <td>61.106665</td>\n",
       "      <td>96.511426</td>\n",
       "      <td>1</td>\n",
       "    </tr>\n",
       "    <tr>\n",
       "      <th>7</th>\n",
       "      <td>75.024746</td>\n",
       "      <td>46.554014</td>\n",
       "      <td>1</td>\n",
       "    </tr>\n",
       "    <tr>\n",
       "      <th>8</th>\n",
       "      <td>76.098787</td>\n",
       "      <td>87.420570</td>\n",
       "      <td>1</td>\n",
       "    </tr>\n",
       "    <tr>\n",
       "      <th>9</th>\n",
       "      <td>84.432820</td>\n",
       "      <td>43.533393</td>\n",
       "      <td>1</td>\n",
       "    </tr>\n",
       "  </tbody>\n",
       "</table>\n",
       "</div>"
      ],
      "text/plain": [
       "       Exam1      Exam2  Accepted\n",
       "1  30.286711  43.894998         0\n",
       "2  35.847409  72.902198         0\n",
       "3  60.182599  86.308552         1\n",
       "4  79.032736  75.344376         1\n",
       "5  45.083277  56.316372         0\n",
       "6  61.106665  96.511426         1\n",
       "7  75.024746  46.554014         1\n",
       "8  76.098787  87.420570         1\n",
       "9  84.432820  43.533393         1"
      ]
     },
     "execution_count": 31,
     "metadata": {},
     "output_type": "execute_result"
    }
   ],
   "source": [
    "datadf[1:10]"
   ]
  },
  {
   "cell_type": "code",
   "execution_count": 35,
   "metadata": {
    "collapsed": false
   },
   "outputs": [
    {
     "data": {
      "text/plain": [
       "<matplotlib.legend.Legend at 0x112f35f10>"
      ]
     },
     "execution_count": 35,
     "metadata": {},
     "output_type": "execute_result"
    },
    {
     "data": {
      "image/png": "[encoded data removed]",
      "text/plain": [
       "<matplotlib.figure.Figure at 0x11181c8d0>"
      ]
     },
     "metadata": {},
     "output_type": "display_data"
    }
   ],
   "source": [
    "#datadf.plot(x = 'Exam1', y = 'Exam2', kind = 'scatter', c = 'Accepted')\n",
    "\n",
    "# plot the data with two different marker types / colors\n",
    "\n",
    "acc = datadf.loc[datadf['Accepted'] == 1]\n",
    "den = datadf.loc[datadf['Accepted'] == 0]\n",
    "\n",
    "plt.scatter(acc['Exam1'], acc['Exam2'], marker = '+', c = 'navy')   # accepted students\n",
    "plt.scatter(den['Exam1'], den['Exam2'], marker = 'o', c = 'yellow') # denied students\n",
    "\n",
    "plt.xlabel('Exam1 Score')\n",
    "plt.ylabel('Exam2 Score')\n",
    "plt.legend(loc = 1)"
   ]
  },
  {
   "cell_type": "markdown",
   "metadata": {},
   "source": [
    "## 1.2 Implementation\n",
    "\n",
    "### 1.2.1 Warmup exercise: sigmoid function\n",
    "\n",
    "The logistic regression hypothesis uses the sigmoid function: 1/(1+e^-z)"
   ]
  },
  {
   "cell_type": "code",
   "execution_count": 63,
   "metadata": {
    "collapsed": false
   },
   "outputs": [],
   "source": [
    "\n",
    "def sigmoid(x):\n",
    "    sig = 1. / (1+ np.exp(-x))\n",
    "    return sig\n"
   ]
  },
  {
   "cell_type": "code",
   "execution_count": 344,
   "metadata": {
    "collapsed": false
   },
   "outputs": [
    {
     "name": "stdout",
     "output_type": "stream",
     "text": [
      "1.0 3.72007597602e-44 0.5\n",
      "[[  1.00000000e+00]\n",
      " [  3.72007598e-44]\n",
      " [  5.00000000e-01]]\n"
     ]
    }
   ],
   "source": [
    "# test the sigmoid function:\n",
    "# if nothing else, (from scipy.special import expit) should work\n",
    "\n",
    "a = sigmoid(100)                   # for large positive x, sigmoid(x) ~= 1\n",
    "b = sigmoid(-100)                # for large negative x, sigmoid(x) ~= 0\n",
    "c = sigmoid(0)                     # sigmoid(0) = 0.5  \n",
    "\n",
    "samp = np.array([[100], [-100], [0]])\n",
    "d = sigmoid(samp)                  # sigmoid function should also work for arrays:\n",
    "\n",
    "print a, b, c\n",
    "print d"
   ]
  },
  {
   "cell_type": "markdown",
   "metadata": {},
   "source": [
    "### 1.2.2 Cost function and gradient\n"
   ]
  },
  {
   "cell_type": "code",
   "execution_count": 465,
   "metadata": {
    "collapsed": false
   },
   "outputs": [
    {
     "data": {
      "text/plain": [
       "((100, 3), (100, 1), (3, 1))"
      ]
     },
     "execution_count": 465,
     "metadata": {},
     "output_type": "execute_result"
    }
   ],
   "source": [
    "data = np.loadtxt('/Users/tess/Desktop/MachineLearning/machine-learning-ex2/ex2/ex2data1.txt', delimiter = ',', usecols=(0,1,2),  unpack = True)\n",
    "\n",
    "X = np.transpose(data[:-1])         # create array of exam scores\n",
    "X = np.insert(X, 0, 1, axis = 1)    # insert colummn of '1s' for theta0 \n",
    "y = np.transpose(data[-1:])         # create array of acceptance (Y/N) codes\n",
    "\n",
    "theta = np.array([[0.],[0.],[0.]])  # initialize theta \n",
    "\n",
    "X.shape, y.shape, theta.shape"
   ]
  },
  {
   "cell_type": "code",
   "execution_count": 466,
   "metadata": {
    "collapsed": false
   },
   "outputs": [
    {
     "data": {
      "text/plain": [
       "array([[ 0.69314718]])"
      ]
     },
     "execution_count": 466,
     "metadata": {},
     "output_type": "execute_result"
    }
   ],
   "source": [
    "\n",
    "def logistCostFunction(theta, X, y):\n",
    "    J = 0                           # initialize cost function as 0\n",
    "    m = y.size\n",
    "    h = sigmoid(np.dot(X, theta))\n",
    "\n",
    "    J = -1*(1./m)*(np.log(h).T.dot(y)+np.log(1-h).T.dot(1-y))\n",
    "    return J\n",
    "\n",
    "cost = logistCostFunction(theta, X, y)\n",
    "cost"
   ]
  },
  {
   "cell_type": "code",
   "execution_count": 206,
   "metadata": {
    "collapsed": false
   },
   "outputs": [
    {
     "data": {
      "text/plain": [
       "array([ -0.1       , -12.00921659, -11.26284221])"
      ]
     },
     "execution_count": 206,
     "metadata": {},
     "output_type": "execute_result"
    }
   ],
   "source": [
    "def logistGradient(theta, X, y):\n",
    "    grad = 0                        # initialize gradient as 0\n",
    "    m = y.size\n",
    "    h = sigmoid(np.dot(X, theta))\n",
    "    grad = (1./m) * np.dot(X.T, (h - y))\n",
    "    grad = grad.flatten()\n",
    "    return grad\n",
    "\n",
    "grad = logistGradient(theta, X, y )\n",
    "grad"
   ]
  },
  {
   "cell_type": "markdown",
   "metadata": {},
   "source": [
    "### 1.2.3 Learning parameters using scipy fmin\n",
    "\n",
    "Instead of using gradient descent, let's try using automated parameter optimization.\n",
    "\n",
    "It's not clear which method Octave's 'fminunc' utilizes, so I'll just use scipy's generic fmin"
   ]
  },
  {
   "cell_type": "code",
   "execution_count": 215,
   "metadata": {
    "collapsed": false
   },
   "outputs": [
    {
     "name": "stdout",
     "output_type": "stream",
     "text": [
      "Optimization terminated successfully.\n",
      "         Current function value: 0.203498\n",
      "         Iterations: 157\n",
      "         Function evaluations: 287\n"
     ]
    }
   ],
   "source": [
    "from scipy import optimize\n",
    "\n",
    "def learnParameters(theta, X, y):\n",
    "    fmin = optimize.fmin(logistCostFunction, x0 = theta, args = (X, y), maxiter = 1000, full_output= True )\n",
    "    return fmin[0], fmin[1]\n",
    "\n",
    "theta_learned, mincost = learnParameters(theta, X, y)"
   ]
  },
  {
   "cell_type": "code",
   "execution_count": 217,
   "metadata": {
    "collapsed": false
   },
   "outputs": [
    {
     "data": {
      "text/plain": [
       "(array([-25.16130062,   0.20623142,   0.20147143]), 0.2034977015902151)"
      ]
     },
     "execution_count": 217,
     "metadata": {},
     "output_type": "execute_result"
    }
   ],
   "source": [
    "theta_learned, mincost"
   ]
  },
  {
   "cell_type": "code",
   "execution_count": 218,
   "metadata": {
    "collapsed": false
   },
   "outputs": [
    {
     "data": {
      "text/plain": [
       "-25.161300623596411"
      ]
     },
     "execution_count": 218,
     "metadata": {},
     "output_type": "execute_result"
    }
   ],
   "source": [
    "theta_learned[0]"
   ]
  },
  {
   "cell_type": "code",
   "execution_count": 263,
   "metadata": {
    "collapsed": false
   },
   "outputs": [
    {
     "data": {
      "text/plain": [
       "<matplotlib.legend.Legend at 0x116a84a90>"
      ]
     },
     "execution_count": 263,
     "metadata": {},
     "output_type": "execute_result"
    },
    {
     "data": {
      "image/png": "[encoded data removed]",
      "text/plain": [
       "<matplotlib.figure.Figure at 0x1169e40d0>"
      ]
     },
     "metadata": {},
     "output_type": "display_data"
    }
   ],
   "source": [
    "# plot decision boundary:\n",
    "#fit_line = theta_learned[0] + theta_learned[1]*exam1 + theta_learned[2]*exam2\n",
    "\n",
    "# pick min and max points to make a line\n",
    "plot_x = np.array([min(np.transpose(X)[1])-2, max(np.transpose(X)[1])+2])\n",
    "# calculate boundary line\n",
    "plot_y = (-1./theta_learned[2])*(theta_learned[0] + theta_learned[1]*plot_x)\n",
    "\n",
    "plt.scatter(acc['Exam1'], acc['Exam2'], marker = '+', c = 'navy')   # accepted students\n",
    "plt.scatter(den['Exam1'], den['Exam2'], marker = 'o', c = 'yellow') # denied students\n",
    "plt.plot(plot_x, plot_y, label = 'Decision Boundary')\n",
    "\n",
    "plt.xlabel('Exam1 Score')\n",
    "plt.ylabel('Exam2 Score')\n",
    "plt.legend()"
   ]
  },
  {
   "cell_type": "markdown",
   "metadata": {},
   "source": [
    "### 1.2.4 Evaluating logistic regression"
   ]
  },
  {
   "cell_type": "code",
   "execution_count": 274,
   "metadata": {
    "collapsed": false
   },
   "outputs": [
    {
     "data": {
      "text/plain": [
       "0.77629159041124107"
      ]
     },
     "execution_count": 274,
     "metadata": {},
     "output_type": "execute_result"
    }
   ],
   "source": [
    "# What are the odds that a student with scores E1 = 45, E2 = 85 is accepted?\n",
    "student = np.array([1,45,85])\n",
    "\n",
    "prob = sigmoid(np.dot(student, theta_learned))\n",
    "prob"
   ]
  },
  {
   "cell_type": "code",
   "execution_count": 342,
   "metadata": {
    "collapsed": false
   },
   "outputs": [
    {
     "name": "stdout",
     "output_type": "stream",
     "text": [
      "The training accuracy of our classifier is: 89.0%\n"
     ]
    }
   ],
   "source": [
    "def predict(X, y, theta_learned):\n",
    "    m = y.size\n",
    "    prob = sigmoid(np.dot(X, theta_learned))\n",
    "    predicted = np.zeros(m)\n",
    "\n",
    "    predicted[prob > 0.5] = 1\n",
    "    predicted[prob <= 0.5] = 0\n",
    "    \n",
    "    # calculate the number of entries in 'predicted' that match the observed (y)\n",
    "    accuracy = np.sum(predicted == y[:,0])/float(y.size) * 100.0\n",
    "    return \"The training accuracy of our classifier is: \" + str(accuracy) + \"%\"\n",
    "\n",
    "print predict(X,y, theta_learned)"
   ]
  },
  {
   "cell_type": "markdown",
   "metadata": {},
   "source": [
    "## 2. Regularized logistic regression\n",
    "\n",
    "In this part of the exercise, you will implement regularized logistic regression to predict whether microchips from a fabrication plant passes quality assurance. \n",
    "\n",
    "### 2.1 Visualizing the data"
   ]
  },
  {
   "cell_type": "code",
   "execution_count": 346,
   "metadata": {
    "collapsed": false
   },
   "outputs": [],
   "source": [
    "data2df = pd.read_csv('/Users/tess/Desktop/MachineLearning/machine-learning-ex2/ex2/ex2data2.txt', header = None, names = ['Test1', 'Test2', 'Pass?'])"
   ]
  },
  {
   "cell_type": "code",
   "execution_count": 349,
   "metadata": {
    "collapsed": false
   },
   "outputs": [
    {
     "data": {
      "text/html": [
       "<div>\n",
       "<table border=\"1\" class=\"dataframe\">\n",
       "  <thead>\n",
       "    <tr style=\"text-align: right;\">\n",
       "      <th></th>\n",
       "      <th>Test1</th>\n",
       "      <th>Test2</th>\n",
       "      <th>Pass?</th>\n",
       "    </tr>\n",
       "  </thead>\n",
       "  <tbody>\n",
       "    <tr>\n",
       "      <th>0</th>\n",
       "      <td>0.051267</td>\n",
       "      <td>0.699560</td>\n",
       "      <td>1</td>\n",
       "    </tr>\n",
       "    <tr>\n",
       "      <th>1</th>\n",
       "      <td>-0.092742</td>\n",
       "      <td>0.684940</td>\n",
       "      <td>1</td>\n",
       "    </tr>\n",
       "    <tr>\n",
       "      <th>2</th>\n",
       "      <td>-0.213710</td>\n",
       "      <td>0.692250</td>\n",
       "      <td>1</td>\n",
       "    </tr>\n",
       "    <tr>\n",
       "      <th>3</th>\n",
       "      <td>-0.375000</td>\n",
       "      <td>0.502190</td>\n",
       "      <td>1</td>\n",
       "    </tr>\n",
       "    <tr>\n",
       "      <th>4</th>\n",
       "      <td>-0.513250</td>\n",
       "      <td>0.465640</td>\n",
       "      <td>1</td>\n",
       "    </tr>\n",
       "    <tr>\n",
       "      <th>5</th>\n",
       "      <td>-0.524770</td>\n",
       "      <td>0.209800</td>\n",
       "      <td>1</td>\n",
       "    </tr>\n",
       "    <tr>\n",
       "      <th>6</th>\n",
       "      <td>-0.398040</td>\n",
       "      <td>0.034357</td>\n",
       "      <td>1</td>\n",
       "    </tr>\n",
       "    <tr>\n",
       "      <th>7</th>\n",
       "      <td>-0.305880</td>\n",
       "      <td>-0.192250</td>\n",
       "      <td>1</td>\n",
       "    </tr>\n",
       "    <tr>\n",
       "      <th>8</th>\n",
       "      <td>0.016705</td>\n",
       "      <td>-0.404240</td>\n",
       "      <td>1</td>\n",
       "    </tr>\n",
       "    <tr>\n",
       "      <th>9</th>\n",
       "      <td>0.131910</td>\n",
       "      <td>-0.513890</td>\n",
       "      <td>1</td>\n",
       "    </tr>\n",
       "  </tbody>\n",
       "</table>\n",
       "</div>"
      ],
      "text/plain": [
       "      Test1     Test2  Pass?\n",
       "0  0.051267  0.699560      1\n",
       "1 -0.092742  0.684940      1\n",
       "2 -0.213710  0.692250      1\n",
       "3 -0.375000  0.502190      1\n",
       "4 -0.513250  0.465640      1\n",
       "5 -0.524770  0.209800      1\n",
       "6 -0.398040  0.034357      1\n",
       "7 -0.305880 -0.192250      1\n",
       "8  0.016705 -0.404240      1\n",
       "9  0.131910 -0.513890      1"
      ]
     },
     "execution_count": 349,
     "metadata": {},
     "output_type": "execute_result"
    }
   ],
   "source": [
    "data2df[0:10]"
   ]
  },
  {
   "cell_type": "code",
   "execution_count": 359,
   "metadata": {
    "collapsed": false
   },
   "outputs": [
    {
     "data": {
      "text/plain": [
       "<matplotlib.text.Text at 0x1177b1410>"
      ]
     },
     "execution_count": 359,
     "metadata": {},
     "output_type": "execute_result"
    },
    {
     "data": {
      "image/png": "[encoded data removed]",
      "text/plain": [
       "<matplotlib.figure.Figure at 0x11774c250>"
      ]
     },
     "metadata": {},
     "output_type": "display_data"
    }
   ],
   "source": [
    "data2pass = data2df.loc[data2df['Pass?'] == 1]\n",
    "data2fail = data2df.loc[data2df['Pass?'] == 0]\n",
    "\n",
    "plt.scatter(data2pass['Test1'], data2pass['Test2'], marker = '+', c = 'navy', label = \"pass\" )\n",
    "plt.scatter(data2fail['Test1'], data2fail['Test2'], marker = 'o', c = 'yellow', label = 'fail' )\n",
    "\n",
    "plt.legend()\n",
    "plt.xlabel('Microchip QA Test1')\n",
    "plt.ylabel('Microchip QA Test2')"
   ]
  },
  {
   "cell_type": "markdown",
   "metadata": {},
   "source": [
    "## 2.2 Feature mapping\n",
    "\n",
    "Clearly, this data cannot be distinguished using a linear decision boundary.\n",
    "Let's create additional higher dimensional features to accomodate the nonlinear boundary"
   ]
  },
  {
   "cell_type": "code",
   "execution_count": 415,
   "metadata": {
    "collapsed": false
   },
   "outputs": [
    {
     "data": {
      "text/plain": [
       "((118, 2), (118, 1))"
      ]
     },
     "execution_count": 415,
     "metadata": {},
     "output_type": "execute_result"
    }
   ],
   "source": [
    "data2 = np.loadtxt('/Users/tess/Desktop/MachineLearning/machine-learning-ex2/ex2/ex2data2.txt', delimiter = ',', unpack = True)\n",
    "\n",
    "X = np.array(data2[:-1].T)          # split data into features\n",
    "y = np.array(data2[-1:]).T          # split data into response variable\n",
    "\n",
    "X.shape, y.shape"
   ]
  },
  {
   "cell_type": "code",
   "execution_count": 407,
   "metadata": {
    "collapsed": false
   },
   "outputs": [
    {
     "data": {
      "text/plain": [
       "(118, 28)"
      ]
     },
     "execution_count": 407,
     "metadata": {},
     "output_type": "execute_result"
    }
   ],
   "source": [
    "# map all polynomial terms of x1 and x2 up to the sixth polynomial term\n",
    "\n",
    "def mapFeature(X1,X2):\n",
    "    \n",
    "    degree = 6\n",
    "    out = np.ones((X1.shape[0], 1))\n",
    "    \n",
    "    for i in range(1,degree+1):\n",
    "        for j in range(0, i+1):\n",
    "            first  = X1 ** (i-j)\n",
    "            second = X2 ** (j)\n",
    "            total = (first * second).reshape( first.shape[0], 1)\n",
    "            out = np.hstack((out, total))\n",
    "    return out\n",
    "        \n",
    "\n",
    "# expecting a 118 X 28 size feature vector\n",
    "expandedX = mapFeature(X[:,0], X[:,1])\n",
    "expandedX.shape        "
   ]
  },
  {
   "cell_type": "code",
   "execution_count": 438,
   "metadata": {
    "collapsed": false
   },
   "outputs": [
    {
     "data": {
      "text/plain": [
       "(28, 1)"
      ]
     },
     "execution_count": 438,
     "metadata": {},
     "output_type": "execute_result"
    }
   ],
   "source": [
    "theta = np.zeros((expandedX.shape[1],1))\n",
    "theta.shape"
   ]
  },
  {
   "cell_type": "markdown",
   "metadata": {},
   "source": [
    "## 2.3 Cost function and gradient"
   ]
  },
  {
   "cell_type": "code",
   "execution_count": 463,
   "metadata": {
    "collapsed": false
   },
   "outputs": [
    {
     "data": {
      "text/plain": [
       "array([[ 0.69314718]])"
      ]
     },
     "execution_count": 463,
     "metadata": {},
     "output_type": "execute_result"
    }
   ],
   "source": [
    "# do not regularize theta0, but do regularize theta1 --> 27\n",
    "\n",
    "\n",
    "def regLogistCostFunction(theta, X, y, lamb):\n",
    "    J = 0                           # initialize cost function as 0\n",
    "    m = y.size\n",
    "    h = sigmoid(np.dot(X, theta))\n",
    "\n",
    "    J = -1*(1./m)*(np.log(h).T.dot(y)+np.log(1-h).T.dot(1-y)) + (lamb/(2.*m))*np.sum(np.square(theta[1:]))\n",
    "    return J\n",
    "\n",
    "cost = regLogistCostFunction(theta, expandedX, y, 1)\n",
    "cost"
   ]
  },
  {
   "cell_type": "markdown",
   "metadata": {},
   "source": [
    "### 2.3.1 Learning parameters using fmin\n",
    "\n",
    "similar to above, use scipy's optimize function to learn optimal thetas"
   ]
  },
  {
   "cell_type": "code",
   "execution_count": 440,
   "metadata": {
    "collapsed": false
   },
   "outputs": [
    {
     "name": "stdout",
     "output_type": "stream",
     "text": [
      "Optimization terminated successfully.\n",
      "         Current function value: 0.383991\n",
      "         Iterations: 17865\n",
      "         Function evaluations: 21268\n"
     ]
    }
   ],
   "source": [
    "def regLearnParameters(theta, X, y, lamb):\n",
    "    fmin = optimize.fmin(regLogistCostFunction, x0 = theta, args = (X, y, lamb), maxiter = 100000, full_output= True )\n",
    "    return fmin[0], fmin[1]\n",
    "\n",
    "fmin_theta, fmin_mincost = regLearnParameters(theta, expandedX, y, 1)"
   ]
  },
  {
   "cell_type": "code",
   "execution_count": 441,
   "metadata": {
    "collapsed": false
   },
   "outputs": [
    {
     "data": {
      "text/plain": [
       "(array([  3.60728532,   0.48651444,   3.39313423, -10.48586115,\n",
       "         -3.8897711 ,  -8.18067859,   6.68822799, -10.9122489 ,\n",
       "          4.28103204,   6.15353086,   8.23485288,  13.57470272,\n",
       "          3.32674198, -36.61333742,   0.08384434,  -7.22859564,\n",
       "          8.97390944, -13.51121532,  19.26115414,  19.70048973,\n",
       "         -4.73563146,  -5.89004029,  -5.41967127, -20.91988601,\n",
       "         16.52773228,  -4.52406175,  16.60588311,  -4.98782047]),\n",
       " 0.38399121138393721)"
      ]
     },
     "execution_count": 441,
     "metadata": {},
     "output_type": "execute_result"
    }
   ],
   "source": [
    "theta_learned, fmin_mincost"
   ]
  },
  {
   "cell_type": "code",
   "execution_count": 447,
   "metadata": {
    "collapsed": true
   },
   "outputs": [],
   "source": [
    "# could also try 'minimize' function\n",
    "\n",
    "def optimizeRegularizedTheta(theta,expandedX,y,lamb):\n",
    "    result = optimize.minimize(regLogistCostFunction, theta, args=(expandedX, y, lamb ),  method='BFGS', options={\"maxiter\":500, \"disp\":False} )\n",
    "    return np.array([result.x]), result.fun\n",
    "    \n",
    "optim_theta, optim_mincost = optimizeRegularizedTheta(theta,expandedX,y,1)"
   ]
  },
  {
   "cell_type": "code",
   "execution_count": 448,
   "metadata": {
    "collapsed": false,
    "scrolled": false
   },
   "outputs": [
    {
     "data": {
      "text/plain": [
       "(array([[   19.60716942,    31.82358694,    16.07786299,  -191.19760098,\n",
       "           -83.62199519,   -99.45350906,  -233.41239851,  -193.88971088,\n",
       "          -126.30523795,   -40.28084627,   655.65855742,   498.93716879,\n",
       "           811.57922661,   332.86845758,   180.83500598,   397.31425815,\n",
       "           516.80133104,   613.06140011,   355.52626239,   127.29194489,\n",
       "            35.26473227,  -765.88280196,  -892.93457056, -1497.75974437,\n",
       "         -1029.12242866, -1010.50641115,  -376.33569109,  -122.77367452]]),\n",
       " 0.24861289819749313)"
      ]
     },
     "execution_count": 448,
     "metadata": {},
     "output_type": "execute_result"
    }
   ],
   "source": [
    "optim_theta, optim_mincost"
   ]
  },
  {
   "cell_type": "markdown",
   "metadata": {},
   "source": [
    "## 2.4 Plotting the decision boundary"
   ]
  },
  {
   "cell_type": "code",
   "execution_count": 459,
   "metadata": {
    "collapsed": false
   },
   "outputs": [],
   "source": [
    "def plotBoundary(theta):\n",
    "    u = np.linspace(-1, 1.5, 50)\n",
    "    v = np.linspace(-1, 1.5, 50)\n",
    "\n",
    "    z = np.zeros((len(u), len(v)))\n",
    "# Evaluate z = theta*x over the grid\n",
    "    for i in range(len(u)):\n",
    "        for j in range(len(v)):\n",
    "            tempij = mapFeature(np.array([u[i]]), np.array([v[j]]))\n",
    "            z[i][j] = np.dot(theta, tempij.T)\n",
    "        \n",
    "    z = z.T \n",
    "    uval, vval = np.meshgrid(u, v)\n",
    "    contour = plt.contour(u, v, z, [0])\n",
    "    plt.clabel(contour, inline = 1)\n",
    "    plt.title('decision boundary')\n"
   ]
  },
  {
   "cell_type": "code",
   "execution_count": 460,
   "metadata": {
    "collapsed": false
   },
   "outputs": [
    {
     "data": {
      "image/png": "[encoded data removed]",
      "text/plain": [
       "<matplotlib.figure.Figure at 0x1190d9f10>"
      ]
     },
     "metadata": {},
     "output_type": "display_data"
    }
   ],
   "source": [
    "plt.scatter(data2pass['Test1'], data2pass['Test2'], marker = '+', c = 'navy', label = \"pass\" )\n",
    "plt.scatter(data2fail['Test1'], data2fail['Test2'], marker = 'o', c = 'yellow', label = 'fail' )\n",
    "\n",
    "plt.legend()\n",
    "plt.xlabel('Microchip QA Test1')\n",
    "plt.ylabel('Microchip QA Test2')\n",
    "plotBoundary(fmin_theta)"
   ]
  },
  {
   "cell_type": "code",
   "execution_count": 461,
   "metadata": {
    "collapsed": false
   },
   "outputs": [
    {
     "data": {
      "image/png": "[encoded data removed]",
      "text/plain": [
       "<matplotlib.figure.Figure at 0x11a285950>"
      ]
     },
     "metadata": {},
     "output_type": "display_data"
    }
   ],
   "source": [
    "plt.scatter(data2pass['Test1'], data2pass['Test2'], marker = '+', c = 'navy', label = \"pass\" )\n",
    "plt.scatter(data2fail['Test1'], data2fail['Test2'], marker = 'o', c = 'yellow', label = 'fail' )\n",
    "\n",
    "plt.legend()\n",
    "plt.xlabel('Microchip QA Test1')\n",
    "plt.ylabel('Microchip QA Test2')\n",
    "plotBoundary(optim_theta)"
   ]
  },
  {
   "cell_type": "code",
   "execution_count": null,
   "metadata": {
    "collapsed": true
   },
   "outputs": [],
   "source": []
  }
 ],
 "metadata": {
  "anaconda-cloud": {},
  "kernelspec": {
   "display_name": "Python [conda env:py27]",
   "language": "python",
   "name": "conda-env-py27-py"
  },
  "language_info": {
   "codemirror_mode": {
    "name": "ipython",
    "version": 2
   },
   "file_extension": ".py",
   "mimetype": "text/x-python",
   "name": "python",
   "nbconvert_exporter": "python",
   "pygments_lexer": "ipython2",
   "version": "2.7.12"
  }
 },
 "nbformat": 4,
 "nbformat_minor": 1
}
